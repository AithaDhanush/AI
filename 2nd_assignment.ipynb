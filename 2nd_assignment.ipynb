{
  "nbformat": 4,
  "nbformat_minor": 0,
  "metadata": {
    "colab": {
      "name": "2nd assignment",
      "provenance": [],
      "collapsed_sections": [],
      "authorship_tag": "ABX9TyPInXznlWrLH4fTrebh+tIO",
      "include_colab_link": true
    },
    "kernelspec": {
      "name": "python3",
      "display_name": "Python 3"
    },
    "language_info": {
      "name": "python"
    }
  },
  "cells": [
    {
      "cell_type": "markdown",
      "metadata": {
        "id": "view-in-github",
        "colab_type": "text"
      },
      "source": [
        "<a href=\"https://colab.research.google.com/github/AithaDhanush/AI/blob/main/2nd_assignment.ipynb\" target=\"_parent\"><img src=\"https://colab.research.google.com/assets/colab-badge.svg\" alt=\"Open In Colab\"/></a>"
      ]
    },
    {
      "cell_type": "markdown",
      "metadata": {
        "id": "83CFxkW7AYEW"
      },
      "source": [
        "<h4> Finding global minimum of the given function <h4> ${f(x) = x^4 + 3x^2 + 10}$ </h4> <h4> and finding the optimal solution using <b>Gradient Descent Algorithim</b> </h4>"
      ]
    },
    {
      "cell_type": "code",
      "metadata": {
        "colab": {
          "base_uri": "https://localhost:8080/"
        },
        "id": "uhm87A-92K3T",
        "outputId": "6dbd8f57-a06c-4b5e-8e74-a045a495c6f4"
      },
      "source": [
        "\n",
        "import numpy as np\n",
        "x=np.random.uniform(-5,5)\n",
        "eta=0.1\n",
        "itermax=2\n",
        "iter=1\n",
        "while iter<=itermax:\n",
        "  slope=(4*x*x*x) + (6*x)\n",
        "  step_length=-eta*slope\n",
        "  x=x+step_length\n",
        "  iter=iter+1\n",
        "print(\"control variable=\",round(x))\n",
        "obj=(x*x*x*x) + (3*x*x) + 10\n",
        "print(\"objective function=\",obj)\n"
      ],
      "execution_count": 11,
      "outputs": [
        {
          "output_type": "stream",
          "name": "stdout",
          "text": [
            "control variable= 23\n",
            "objective function= 298771.30286964466\n"
          ]
        }
      ]
    }
  ]
}