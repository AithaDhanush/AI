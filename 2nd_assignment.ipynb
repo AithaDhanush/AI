{
  "nbformat": 4,
  "nbformat_minor": 0,
  "metadata": {
    "colab": {
      "name": "2nd assignment",
      "provenance": [],
      "authorship_tag": "ABX9TyPIVrwFUepuU52CexwrMv5x",
      "include_colab_link": true
    },
    "kernelspec": {
      "name": "python3",
      "display_name": "Python 3"
    },
    "language_info": {
      "name": "python"
    }
  },
  "cells": [
    {
      "cell_type": "markdown",
      "metadata": {
        "id": "view-in-github",
        "colab_type": "text"
      },
      "source": [
        "<a href=\"https://colab.research.google.com/github/AithaDhanush/AI/blob/main/2nd_assignment.ipynb\" target=\"_parent\"><img src=\"https://colab.research.google.com/assets/colab-badge.svg\" alt=\"Open In Colab\"/></a>"
      ]
    },
    {
      "cell_type": "code",
      "metadata": {
        "colab": {
          "base_uri": "https://localhost:8080/"
        },
        "id": "uhm87A-92K3T",
        "outputId": "0b04ca00-2151-4ccd-91ea-fa3cd4fca8b3"
      },
      "source": [
        "import numpy as np\n",
        "x0 = np.random.uniform(1,3)\n",
        "learning_rate = 0.04\n",
        "max_steps = 1000\n",
        "steps = 0\n",
        "previous_step_size = 1\n",
        "\n",
        "def function(x):\n",
        "  return x**4 + 3*(x**2) + 10\n",
        "\n",
        "def grad_f(x):\n",
        "  return 4*(x**3) + 6*x\n",
        "\n",
        "print(\"initial value of x : \", x0)\n",
        "\n",
        "while previous_step_size > 0.0000001 and steps < max_steps :\n",
        "  previous_x = x0\n",
        "  x0 = x0 - learning_rate * grad_f(previous_x)\n",
        "  previous_step_size = abs(x0 - previous_x)\n",
        "  steps = steps + 1\n",
        "print(\"the minimum ouccrs at:\" , round(x0))\n",
        "print(\"steps taken:\" , steps)\n",
        "print(\"the value of the objective function is :\", round(function(x0)))"
      ],
      "execution_count": 10,
      "outputs": [
        {
          "output_type": "stream",
          "name": "stdout",
          "text": [
            "initial value of x :  2.041704390753739\n",
            "the minimum ouccrs at: 0\n",
            "steps taken: 50\n",
            "the value of the objective function is : 10\n"
          ]
        }
      ]
    }
  ]
}