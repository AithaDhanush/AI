{
  "nbformat": 4,
  "nbformat_minor": 0,
  "metadata": {
    "colab": {
      "name": "assignment 3",
      "provenance": [],
      "authorship_tag": "ABX9TyNGnLjeLoawtZAM1x6GKc95",
      "include_colab_link": true
    },
    "kernelspec": {
      "name": "python3",
      "display_name": "Python 3"
    },
    "language_info": {
      "name": "python"
    }
  },
  "cells": [
    {
      "cell_type": "markdown",
      "metadata": {
        "id": "view-in-github",
        "colab_type": "text"
      },
      "source": [
        "<a href=\"https://colab.research.google.com/github/AithaDhanush/AI/blob/main/assignment_3.ipynb\" target=\"_parent\"><img src=\"https://colab.research.google.com/assets/colab-badge.svg\" alt=\"Open In Colab\"/></a>"
      ]
    },
    {
      "cell_type": "code",
      "metadata": {
        "colab": {
          "base_uri": "https://localhost:8080/"
        },
        "id": "GmNpSwrzKzmF",
        "outputId": "b6af2b72-532d-4634-cb9c-53362dc51bdb"
      },
      "source": [
        "import numpy as np\n",
        "x=np.random.uniform(-100,100)\n",
        "y=np.random.uniform(-100,100)\n",
        "eta=0.1\n",
        "itermax=200\n",
        "iter=1\n",
        "while iter<=itermax:\n",
        "  slopex=6*x\n",
        "  slopey=-5*pow(2.71828,-y)\n",
        "  step_length_x=-eta*slopex\n",
        "  step_length_y=-eta*slopey\n",
        "  x=x+step_length_x\n",
        "  y=y+step_length_y\n",
        "  iter=iter+1\n",
        "print(\"control variables:\")\n",
        "print(\"at x=\",round(x),\"at y=\",round(y))\n",
        "obj=3*x*x + 5*pow(2.71828,-y) + 10\n",
        "print(\"objective function=\",obj)\n"
      ],
      "execution_count": 1,
      "outputs": [
        {
          "output_type": "stream",
          "name": "stdout",
          "text": [
            "control variables:\n",
            "at x= 0 at y= 23673427540\n",
            "objective function= 10.0\n"
          ]
        }
      ]
    }
  ]
}