{
  "nbformat": 4,
  "nbformat_minor": 0,
  "metadata": {
    "colab": {
      "name": "Untitled1.ipynb",
      "provenance": [],
      "collapsed_sections": [],
      "authorship_tag": "ABX9TyPjs52lZhKT5bk3mRJQRYMP",
      "include_colab_link": true
    },
    "kernelspec": {
      "name": "python3",
      "display_name": "Python 3"
    },
    "language_info": {
      "name": "python"
    }
  },
  "cells": [
    {
      "cell_type": "markdown",
      "metadata": {
        "id": "view-in-github",
        "colab_type": "text"
      },
      "source": [
        "<a href=\"https://colab.research.google.com/github/AithaDhanush/AI/blob/main/Untitled1.ipynb\" target=\"_parent\"><img src=\"https://colab.research.google.com/assets/colab-badge.svg\" alt=\"Open In Colab\"/></a>"
      ]
    },
    {
      "cell_type": "code",
      "metadata": {
        "colab": {
          "base_uri": "https://localhost:8080/"
        },
        "id": "DZURLe6jPQ_d",
        "outputId": "63c7e46a-499e-427e-ab73-2e35d24d3bb9"
      },
      "source": [
        "from scipy.optimize import linprog\n",
        "#objetive function matrix\n",
        "obj=[-50,-120]\n",
        "#inequality constraints matrix\n",
        "a_ieq=[[7000,2000],[10,30],[1,1]]\n",
        "#inequalty contants matrix\n",
        "b_ieq=[700000,1200,110]\n",
        "boundary=[(0,float('inf')) ,(0,float('inf'))]\n",
        "opt=linprog(c=obj,A_ub=a_ieq,b_ub=b_ieq,A_eq=None,b_eq=None,bounds=boundary,method=\"simplex\")\n",
        "opt.x\n",
        "print(\"area of a:\",round(opt.x[0]))\n",
        "print(\"area of b:\",round(opt.x[1]))\n",
        "optimalvalue= round((50*opt.x[0])+(120*opt.x[1]))\n",
        "print (\"optimal value=\",optimalvalue)\n"
      ],
      "execution_count": 1,
      "outputs": [
        {
          "output_type": "stream",
          "text": [
            "area of a: 98\n",
            "area of b: 7\n",
            "optimal value= 5779\n"
          ],
          "name": "stdout"
        }
      ]
    }
  ]
}